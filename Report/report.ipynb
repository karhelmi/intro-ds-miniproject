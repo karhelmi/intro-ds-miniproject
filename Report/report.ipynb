{
 "cells": [
  {
   "cell_type": "markdown",
   "metadata": {},
   "source": [
    "# Mini-Project Report - Analyzing and Recognizing Leading Countries in CO2 Emission Reduction\n",
    "\n",
    "#### Project Group: Helmi Karesti, Janne Penttala, Salla-Mari Uitto\n",
    "#### GitHub Repository: [https://github.com/karhelmi/intro-ds-miniproject](https://github.com/karhelmi/intro-ds-miniproject)\n",
    "\n",
    "## Deciding on a Project Idea\n",
    "\n",
    "Our project team was formed before the first exxercise session on Slack and we started to narrow down ideas during the first exercise session. We toyed with ideas of stock markets, pets in cities and many other topics. In the end, all of us were interested in sustainability so climate change was chosen as a inspiration. From here, we started to narrow down the topic by first deciding on analyzing CO2 emissions. Then we brainstormed on how to make it truly interesting. We started to have ideas on finding out which countries had reduced their emissions the most. Finally, we decided on our topic: Analyzing and Recognizing Leading Countries in CO2 Emission Reduction.\n",
    "\n",
    "## Motivation and Added Value\n",
    "\n",
    "Our approach in analyzing countries that have reduced their CO2 emissions effectively highlights positive achievements and encourages the sharing of best practices in the fight against climate change. The thought behind all of this is that the world needs more positive reinforcement and hope.\n",
    "\n",
    "The target groups of our project are political decision makers, environmental organizations and researchers. These are the groups that aim to find ways to combat climate change: our project aids them in their pursuit by giving examples of countries that have succeeded in reducing CO2 emissions. Our project also introduces measures that have led to the reduction of CO2 emissions. This will aid our target group in decision making.\n",
    "\n",
    "## Data Collection\n",
    "\n",
    "Data about CO2 emissions is widely available on the Internet. We compared the data on different sites to each other to make sure that the numbers didn't differ from each other. In the end we decided to use [Global Carbon Atlas](https://globalcarbonatlas.org/) for fetching CO2 emission data for every country. The fetched data was stored in a .csv file. This data is used to find the countries that have reduced their CO2 emissions the most. \n",
    "\n",
    "Another aspect in our project is to find what has affected the CO2 emission reduction in the selected countries. For this, we chose to use [Our World in Data](https://ourworldindata.org/). This choice was fairly easy, because we need a lot of different factors to analyze in our project and this single source can provide this for us. The choice on what to analyze was made by thorough evaluation as a group. For example, renewable energy was chosen as one factor because it is generally known to reduce CO2 emissions. This data is also fetched as a .csv file.\n",
    "\n",
    "(list of our chosen variables)\n",
    "\n",
    "When our project progressed, we encountered some problems with the data we initially thought of using. At the beginning, we thought that we would analyze the change between the years 2011 and 2021. However, once we had done our code, we realized fast that not all countries have available data up to the year 2021 on our chosen factors. As a team, we discussed different possibilities for handling this: one simple option was to change the time frame to something else, like 2008-2018, and another simple option was to choose only factors and countries to analyze so that we have the needed data. Some thought was also put on filling the missing values by using linear regression or other means of predicting the values, but due to our tight schedule this was dismissed rather quickly: we wanted to keep our focus on analyzing the factors and not get too sidetracked. \n",
    "\n",
    "## Preprocessing\n",
    "\n",
    "Our project has basically two sub-tasks: first one is to find the countries that have reduced CO2 emissions and second is to analyze factors that have helped the country to reduce them. Without even actually looking at the data, we knew that we would have to merge data from several data sources or files together to be able to compare and analyze CO2 emission reduction and factors for each country.\n",
    "\n",
    "Before starting to write the code, we looked at the csv data in Excel: this way we got a rough idea about what we were up against. For example, we noticed that in addition to each country, our CO2 emission data file contained CO2 emissions for each continent and other larger areas.\n",
    "\n",
    "### Code\n",
    "\n",
    "From the beginning it was clear that we would work with Python. Another option would have been R, but overall Python was the more attractive choice. Our team did not have much experience with it, but we all wanted to learn more. With Python, it was also obvious that we would be using Pandas and Numpy to help us process the data.\n",
    "\n",
    "At first, we started with implementing code that gives us a list of countries and their CO2 emission reduction percentage. We read the csv file to a pandas dataframe and continued to process it in that format. We had to rename and re-arrange columns and rows, change data types and finally calculate the reduction in CO2 emissions. We calculated the reduction in three different units: in MtCO2, in kgCO2/GDP and in tCO2/person.\n",
    "\n",
    "Next, we had to decide on how we want to analyze the factors that have led to a country reducing their CO2 emissions. This started to form out to be the trickiest part of our whole project and we spent a lot of time just discussing different possibilities. Finally we settled on creating a pandas dataframe for each country and to that country specific data frame we would add the CO2 emissions and all the factors as separate columns.\n",
    "\n",
    "At first, we implemented code that did all of this for one country, Finland. Once that case worked, we started to refactor the code and make functions for separate tasks to make it easier to reuse the code. First, the data frame for a country is created with its CO2 emissions. Then, the frame is filled with all of our chosen variables. Again, we had to wrangle the data in different ways: we set indexes, changed data types and took data from another frame to our country specific frame. After doing these steps, we have a dataframe for a country with all of the variables we will be analyzing and the CO2 emissions for each year. Code is available in the GitHub repository (link available at the beginning of this report).\n",
    "\n",
    "## Learning Task and Approach\n",
    "\n",
    "Linear regression, R-square values, other statistical approaches? correlation and causality?\n",
    "\n",
    "## Visualizations\n",
    "\n",
    "Scatter plots for linear regression, how to show countries with big reductions?\n",
    "\n",
    "## Results, Privacy and Ethical Considerations\n",
    "\n",
    "## Report on Usage of Generative AI Tools in the Project"
   ]
  }
 ],
 "metadata": {
  "kernelspec": {
   "display_name": "Python 3",
   "language": "python",
   "name": "python3"
  },
  "language_info": {
   "name": "python",
   "version": "3.8.10"
  },
  "orig_nbformat": 4
 },
 "nbformat": 4,
 "nbformat_minor": 2
}
