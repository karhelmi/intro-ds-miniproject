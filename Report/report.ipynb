{
 "cells": [
  {
   "cell_type": "markdown",
   "metadata": {},
   "source": [
    "# Miniproject Report - Analyzing and Recognizing Leading Countries in CO2 Emission Reduction\n",
    "\n",
    "#### Project Group: Helmi Karesti, Janne Penttala, Salla-Mari Uitto\n",
    "#### GitHub Repository: [https://github.com/karhelmi/intro-ds-miniproject](https://github.com/karhelmi/intro-ds-miniproject)\n",
    "\n",
    "## Deciding on a Project Idea\n",
    "\n",
    "Our project team was formed before the first exxercise session on Slack and we started to narrow down ideas during the first exercise session. We toyed with ideas of stock markets, pets in cities and many other topics. In the end, all of us were interested in sustainability so climate change was chosen as a inspiration. From here, we started to narrow down the topic by first deciding on analyzing CO2 emissions. Then we brainstormed on how to make it truly interesting. We started to have ideas on finding out which countries had reduced their emissions the most. However, we had difficulties with organizing our thoughts and putting thoughts into words. We dumped every information we had to ChatGPT* and after consulting it, we decided on our topic: Analyzing and Recognizing Leading Countries in CO2 Emission Reduction.\n",
    "\n",
    "*ChatGPT was a good help for putting our mismatched thoughts into words, but final details came together when we started filling out the canvas.\n",
    "\n",
    "## Motivation and Added Value\n",
    "\n",
    "Our approach in analyzing countries that have reduced their CO2 emissions effectively highlights positive achievements and encourages the sharing of best practices in the fight agains climate change. We thought that the world needs more positive reinforcement and hope.\n",
    "\n",
    "The target groups of our project are political decision makers, environmental organizations and researchers. These are the groups that aim to find ways to combat climate change: our project aids them in their pursuit by giving examples of countries that have succeeded in reducing CO2 emissions. Our project also introduces measures that have led to the reduction of CO2 emissions. This will aid our target group in decision making.\n",
    "\n",
    "## Data Collection\n",
    "\n",
    "Data about CO2 emissions is widely available on the Internet. We compared the data on different sites to each other to make sure that the numbers didn't differ from each other. In the end we decided to use [Global Carbon Atlas](https://globalcarbonatlas.org/) for fetching CO2 emission data for every country. The fetced data was stored in a .csv file. This data is used to find the countries that have reduced their CO2 emissions the most. \n",
    "\n",
    "Another aspect in our project is to find what has affected the CO2 emission reduction in the selected countries. For this, we chose to use [Our World in Data](https://ourworldindata.org/). This choice was fairly easy, because we need a lot of different factors to analyze in our project and this single source can provide this for us. The choice on what to analyze was made by thorough evaluation as a group. For example, renewable energy was chosen as one factor because it is generally known to reduce CO2 emissions. This data is also fetced as a .csv file.\n",
    "\n",
    "## Preprocessing and Exploratory Data Analysis\n",
    "\n",
    "In both cases, the aim is to make sure that no data missing. At the beginning, the technical details were not clear. We knew, that we would have to merge several data sources together to be able to store and analyze CO2 emissions for each country.\n",
    "\n",
    "Before starting to think what we need to do with code, we looked at the data in excel. This gave us an idea what we might need to do and if missing values will be a problem. \n",
    "\n",
    "The decision to use pandas and numpy to help us out in the data preprocessing was made at the very beginning.\n",
    "\n",
    "### First Task: Countries that have reduced CO2 emissions the most\n",
    "\n",
    "Our first task was to find the countries that have reduced their CO2 emissions the most. To do this, we fetched the CO2 emission data for every country from 2011 to 2021 as one csv-file. With EDA we noticed quickly that the file also contains CO2 emissions for every continent and for other areas that are not countries. Some missing values were also present in the data.\n",
    "\n",
    "### Second Task: Factors that have reduced CO2 emissions\n",
    "\n",
    "## Visualizations\n",
    "\n",
    "## Learning Task and Approach\n",
    "\n",
    "## Results, Privacy and Ethical Considerations"
   ]
  }
 ],
 "metadata": {
  "language_info": {
   "name": "python"
  },
  "orig_nbformat": 4
 },
 "nbformat": 4,
 "nbformat_minor": 2
}
